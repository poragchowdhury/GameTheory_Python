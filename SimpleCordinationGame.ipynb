{
  "nbformat": 4,
  "nbformat_minor": 0,
  "metadata": {
    "colab": {
      "name": "SimpleCordinationGame.ipynb",
      "provenance": [],
      "collapsed_sections": [],
      "authorship_tag": "ABX9TyN6VzgN8LgPhshjRDo74xWo",
      "include_colab_link": true
    },
    "kernelspec": {
      "name": "python3",
      "display_name": "Python 3"
    }
  },
  "cells": [
    {
      "cell_type": "markdown",
      "metadata": {
        "id": "view-in-github",
        "colab_type": "text"
      },
      "source": [
        "<a href=\"https://colab.research.google.com/github/poragchowdhury/GameTheory_Python/blob/master/SimpleCordinationGame.ipynb\" target=\"_parent\"><img src=\"https://colab.research.google.com/assets/colab-badge.svg\" alt=\"Open In Colab\"/></a>"
      ]
    },
    {
      "cell_type": "code",
      "metadata": {
        "id": "NrmeYcGy8kl3",
        "colab_type": "code",
        "colab": {}
      },
      "source": [
        "!pip install nashpy"
      ],
      "execution_count": 0,
      "outputs": []
    },
    {
      "cell_type": "code",
      "metadata": {
        "id": "NbQcN_Sl9MOh",
        "colab_type": "code",
        "colab": {}
      },
      "source": [
        "import nashpy as nash\n",
        "import numpy as np\n",
        "#Row = np.array([[10, 0, 0], [5, 5, 0], [4, 4, 3]])\n",
        "#Col = np.array([[10, 5, 4], [0, 5, 4], [0, 0, 3]])\n",
        "Row = np.array([[10, 0, 0], [0, 5, 0], [0, 0, 1]])\n",
        "Col = np.array([[10, 0, 0], [0, 5, 0], [0, 0, 1]])\n",
        "\n",
        "CoordinationGame = nash.Game(Row, Col)\n",
        "CoordinationGame"
      ],
      "execution_count": 0,
      "outputs": []
    },
    {
      "cell_type": "code",
      "metadata": {
        "id": "7JBui2zF9bRf",
        "colab_type": "code",
        "colab": {}
      },
      "source": [
        "A3 = [9/10, 1/10, 0]\n",
        "A2 = [8/10, 2/10, 0]\n",
        "A1 = [8/10, 1/10, 1/10]\n",
        "B3 = [1/10, 9/10, 0]\n",
        "B2 = [2/10, 8/10, 0]\n",
        "B1 = [1/10, 8/10, 1/10]\n",
        "C3 = [0, 1/10, 9/10]\n",
        "C2 = [0, 2/10, 8/10]\n",
        "C1 = [1/10, 1/10, 8/10]\n",
        "U3 = [5/10, 2/10, 3/10]\n",
        "U2 = [1/10, 7/10, 2/10]\n",
        "U1 = [3/10, 4/10, 3/10]\n",
        "R = [1/3, 1/3, 1/3]\n",
        "Strategies = np.array([A3, A2, B3, B2, C3, C2, R])\n",
        "new_game_size = len(Strategies) \n",
        "rows, cols = (new_game_size, new_game_size) \n",
        "\n",
        "new_game_Row = [[0 for i in range(cols)] for j in range(rows)] \n",
        "new_game_Col = [[0 for i in range(cols)] for j in range(rows)] \n",
        "\n",
        "# Creating the Empirical Payoff Matrix\n",
        "\n",
        "for i in range(new_game_size):\n",
        "  for j in range(new_game_size):\n",
        "    arr = CoordinationGame[Strategies[i], Strategies[j]]\n",
        "    new_game_Row[i][j] = arr[0]\n",
        "    new_game_Col[i][j] = arr[1]\n",
        "\n",
        "newCoordinationGame = nash.Game(new_game_Row, new_game_Col)\n",
        "\n",
        "strats = ['A3','A2', 'B3','B2', 'C3','C2','R'] # 'U3','U2','U1'\n",
        "\n",
        "for txt in strats:\n",
        "  print(\" , , %s\" % txt, end = '')\n",
        "print()\n",
        "for i, txt in enumerate(strats):\n",
        "  print(\"%s,\" % txt, end= '')\n",
        "  for j in range(new_game_size):\n",
        "    print(\"%.2f, %.2f,\" % (newCoordinationGame.payoff_matrices[0][i][j], newCoordinationGame.payoff_matrices[1][i][j]), end = '')\n",
        "  print()"
      ],
      "execution_count": 0,
      "outputs": []
    },
    {
      "cell_type": "code",
      "metadata": {
        "id": "cwNWeB9b-IHf",
        "colab_type": "code",
        "colab": {}
      },
      "source": [
        "# Creating the feature array and doing clustering\n",
        "\n",
        "%matplotlib inline\n",
        "import matplotlib.pyplot as plt\n",
        "import seaborn as sns; sns.set()  # for plot styling\n",
        "import numpy as np\n",
        "\n",
        "num_strategies = len(Strategies) \n",
        "rows, cols = (num_strategies, 5) \n",
        "F = [[0 for i in range(cols)] for j in range(rows)] \n",
        "\n",
        "for i in range(num_strategies):\n",
        "  selfplay = CoordinationGame[Strategies[i], Strategies[i]]\n",
        "  randplay = CoordinationGame[Strategies[i], Strategies[num_strategies-1]]\n",
        "  playA = CoordinationGame[Strategies[i], [1,0,0]]\n",
        "  playB = CoordinationGame[Strategies[i], [0,1,0]]\n",
        "  playC = CoordinationGame[Strategies[i], [0,0,1]]\n",
        "  F[i][0] = round(selfplay[0]*10)\n",
        "  F[i][1] = round(randplay[0]*10)\n",
        "  F[i][2] = round(playA[0]*10)\n",
        "  F[i][3] = round(playB[0]*10)\n",
        "  F[i][4] = round(playC[0]*10)\n",
        "\n",
        "X = np.array(F)\n",
        "\n",
        "plt.scatter(X[:, 0], X[:, 1], s=50)\n",
        "z=X[:,0]\n",
        "y=X[:,1]\n",
        "for i, txt in enumerate(strats):\n",
        "    plt.annotate(txt, (z[i], y[i]))\n",
        "plt.xlabel(\"Selfplay score\")\n",
        "plt.ylabel(\"ZI score\")\n",
        "\n",
        "# Finding Nash Equilibrium\n",
        "eqs = newCoordinationGame.support_enumeration()\n",
        "nes = list(eqs)\n",
        "nes\n"
      ],
      "execution_count": 0,
      "outputs": []
    },
    {
      "cell_type": "code",
      "metadata": {
        "id": "bJ6kt9nrjOMF",
        "colab_type": "code",
        "colab": {}
      },
      "source": [
        "nes[0][0][0]"
      ],
      "execution_count": 0,
      "outputs": []
    },
    {
      "cell_type": "code",
      "metadata": {
        "id": "HViIIvS38l9d",
        "colab_type": "code",
        "colab": {}
      },
      "source": [
        "from sklearn.cluster import KMeans\n",
        "# https://towardsdatascience.com/machine-learning-algorithms-part-9-k-means-example-in-python-f2ad05ed5203 \n",
        "wcss = []\n",
        "for i in range(1, 7):\n",
        "    kmeans = KMeans(n_clusters=i, init='k-means++', max_iter=300, n_init=10, random_state=0)\n",
        "    kmeans.fit(X)\n",
        "    wcss.append(kmeans.inertia_)\n",
        "plt.plot(range(1, 7), wcss)\n",
        "plt.title('Elbow Method')\n",
        "plt.xlabel('Number of clusters')\n",
        "plt.ylabel('WCSS')\n",
        "plt.show()"
      ],
      "execution_count": 0,
      "outputs": []
    },
    {
      "cell_type": "code",
      "metadata": {
        "id": "GgLu-KjK9cNN",
        "colab_type": "code",
        "colab": {}
      },
      "source": [
        "n_clusters=4\n",
        "kmeans = KMeans(n_clusters)\n",
        "kmeans.fit(X)\n",
        "y_kmeans = kmeans.predict(X)"
      ],
      "execution_count": 0,
      "outputs": []
    },
    {
      "cell_type": "code",
      "metadata": {
        "id": "HTmqHf-T9e0L",
        "colab_type": "code",
        "colab": {}
      },
      "source": [
        "plt.scatter(X[:, 0], X[:, 1], c=y_kmeans, s=50, cmap='viridis')\n",
        "z=X[:,0]\n",
        "y=X[:,1]\n",
        "centers = kmeans.cluster_centers_\n",
        "plt.scatter(centers[:, 0], centers[:, 1], c='yellow', s=200, alpha=0.5);\n",
        "for i, txt in enumerate(strats):\n",
        "    plt.annotate(txt, (z[i], y[i]))\n",
        "\n",
        "clusters = {}\n",
        "for i in range(0, n_clusters):\n",
        "  clusters.setdefault(i, [])\n",
        "\n",
        "for i, txt in enumerate(strats):\n",
        "   clusters[y_kmeans[i]].append(txt)\n",
        "plt.xlabel(\"Selfplay score\")\n",
        "plt.ylabel(\"ZI score\")\n",
        "\n",
        "print(clusters)"
      ],
      "execution_count": 0,
      "outputs": []
    },
    {
      "cell_type": "code",
      "metadata": {
        "id": "OA4z4Z1dNQM6",
        "colab_type": "code",
        "colab": {}
      },
      "source": [
        "Row = np.array([[8.15, 7.3], [7.3, 6.6]])\n",
        "Col = np.array([[8.15, 7.3], [7.3, 6.6]])\n",
        "\n",
        "CoordinationGame = nash.Game(Row, Col)\n",
        "CoordinationGame\n",
        "eqs = CoordinationGame.support_enumeration()\n",
        "list(eqs)"
      ],
      "execution_count": 0,
      "outputs": []
    }
  ]
}