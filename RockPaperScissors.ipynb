{
  "nbformat": 4,
  "nbformat_minor": 0,
  "metadata": {
    "colab": {
      "name": "RockPaperSiccor.ipynb",
      "provenance": [],
      "collapsed_sections": [],
      "authorship_tag": "ABX9TyOo77mwllJIaIlMCMO3a4Qi",
      "include_colab_link": true
    },
    "kernelspec": {
      "name": "python3",
      "display_name": "Python 3"
    }
  },
  "cells": [
    {
      "cell_type": "markdown",
      "metadata": {
        "id": "view-in-github",
        "colab_type": "text"
      },
      "source": [
        "<a href=\"https://colab.research.google.com/github/poragchowdhury/GameTheory_Python/blob/master/RockPaperScissors.ipynb\" target=\"_parent\"><img src=\"https://colab.research.google.com/assets/colab-badge.svg\" alt=\"Open In Colab\"/></a>"
      ]
    },
    {
      "cell_type": "code",
      "metadata": {
        "id": "nRHweYavXYnV",
        "colab_type": "code",
        "outputId": "82acd22c-8d30-4dc2-e265-df25547788d5",
        "colab": {
          "base_uri": "https://localhost:8080/",
          "height": 211
        }
      },
      "source": [
        "!pip install nashpy\n"
      ],
      "execution_count": 0,
      "outputs": [
        {
          "output_type": "stream",
          "text": [
            "Collecting nashpy\n",
            "  Downloading https://files.pythonhosted.org/packages/ad/a2/5d36744511640db1869029d2ab324b55f6eaaa2a51f75a87408a7e8000f4/nashpy-0.0.19.tar.gz\n",
            "Requirement already satisfied: numpy>=1.12.1 in /usr/local/lib/python3.6/dist-packages (from nashpy) (1.17.5)\n",
            "Requirement already satisfied: scipy>=0.19.0 in /usr/local/lib/python3.6/dist-packages (from nashpy) (1.4.1)\n",
            "Building wheels for collected packages: nashpy\n",
            "  Building wheel for nashpy (setup.py) ... \u001b[?25l\u001b[?25hdone\n",
            "  Created wheel for nashpy: filename=nashpy-0.0.19-cp36-none-any.whl size=10814 sha256=09f6727d852b11da3b00d77fe0ec0dd63f9ef095ab891d4dfd1a90a0e8623078\n",
            "  Stored in directory: /root/.cache/pip/wheels/18/e9/56/2d04d01a6969d167f86d3afcb3d128c0b43d0d73ea471c835b\n",
            "Successfully built nashpy\n",
            "Installing collected packages: nashpy\n",
            "Successfully installed nashpy-0.0.19\n"
          ],
          "name": "stdout"
        }
      ]
    },
    {
      "cell_type": "code",
      "metadata": {
        "id": "OoF1soaZbAwG",
        "colab_type": "code",
        "colab": {}
      },
      "source": [
        "import nashpy as nash\n",
        "import numpy as np\n",
        "Row = np.array([[0, -1, 1], [1, 0, -1], [-1, 1, 0]])\n",
        "Col = np.array([[0, 1, -1], [-1, 0, 1], [1, -1, 0]])\n",
        "\n",
        "RPS = nash.Game(Row, Col)\n",
        "\n",
        "# number of strategies\n",
        "num_strategies = 10\n",
        "rows, cols = (num_strategies*3,2) \n",
        "strategiesScore = [[0 for i in range(cols)] for j in range(rows)] "
      ],
      "execution_count": 0,
      "outputs": []
    },
    {
      "cell_type": "code",
      "metadata": {
        "id": "GwRoMkHifFSU",
        "colab_type": "code",
        "outputId": "87c460c1-67a7-4a78-b451-94900cd156fa",
        "colab": {
          "base_uri": "https://localhost:8080/",
          "height": 545
        }
      },
      "source": [
        "import random\n",
        "R = np.array([1,0,0])\n",
        "P = np.array([0,1,0])\n",
        "S = np.array([0,0,1])\n",
        "\n",
        "for i in range(500000):\n",
        "  # Random sampling of strategies\n",
        "  p1 = random.randrange(num_strategies*3)\n",
        "  p2 = random.randrange(num_strategies*3)\n",
        "\n",
        "  if p1 < num_strategies: \n",
        "    P1 = R\n",
        "  elif p1 >= num_strategies and p1 < (num_strategies*2):\n",
        "    P1 = P \n",
        "  else:\n",
        "    P1 = S \n",
        "\n",
        "  if p2 < num_strategies:\n",
        "    P2 = R\n",
        "  elif p2 >= num_strategies and p2 < (num_strategies*2) :\n",
        "    P2 = P \n",
        "  else:\n",
        "    P2 = S\n",
        "\n",
        "  # print(p1)\n",
        "  #print(P1)\n",
        "  # print(p2)\n",
        "  #print(P2)\n",
        "\n",
        "  if(p1 != p2):\n",
        "    #print(\"Need to check values who wins!\")\n",
        "    res = RPS[P1, P2]\n",
        "    #print(arr)\n",
        "    if res[0] > res[1]:\n",
        "      strategiesScore[p1][0] += 1     # Player 1 wins\n",
        "    elif res[0] < res[1]:\n",
        "      strategiesScore[p1][0] -= 1 # Player 1 loses\n",
        "    else:\n",
        "      # Both players pick the same object\n",
        "      if(p1 > p2):\n",
        "        strategiesScore[p1][0] += 1   # Player 1 wins\n",
        "      else:\n",
        "        strategiesScore[p1][0] -= 1   # Player 1 loses\n",
        "  strategiesScore[p1][1] += 1\n",
        "\n",
        "\n",
        "for i in range(len(strategiesScore)):\n",
        "  print(i, strategiesScore[i][0]/strategiesScore[i][1])\n"
      ],
      "execution_count": 0,
      "outputs": [
        {
          "output_type": "stream",
          "text": [
            "0 -0.29069036717838226\n",
            "1 -0.2295957284515637\n",
            "2 -0.16260090481681894\n",
            "3 -0.08351022989024887\n",
            "4 -0.033369654045219285\n",
            "5 0.040648222759423404\n",
            "6 0.09928096110044214\n",
            "7 0.1621463590158773\n",
            "8 0.2459275303461035\n",
            "9 0.29157686781609193\n",
            "10 -0.28622499773735177\n",
            "11 -0.2353641333098219\n",
            "12 -0.16967898570272458\n",
            "13 -0.10395617225739817\n",
            "14 -0.031399010346378764\n",
            "15 0.03884060568049458\n",
            "16 0.10313333634760591\n",
            "17 0.17226401576213504\n",
            "18 0.23936431409312084\n",
            "19 0.30254719537530483\n",
            "20 -0.30043680043680043\n",
            "21 -0.22896140287444636\n",
            "22 -0.15765806277542946\n",
            "23 -0.09435487492702205\n",
            "24 -0.038791934171263226\n",
            "25 0.028117359413202935\n",
            "26 0.08890284381447923\n",
            "27 0.15513869132290184\n",
            "28 0.23006711409395972\n",
            "29 0.2623054270088347\n"
          ],
          "name": "stdout"
        }
      ]
    }
  ]
}